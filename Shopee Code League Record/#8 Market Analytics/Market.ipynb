{
 "cells": [
  {
   "cell_type": "code",
   "execution_count": null,
   "metadata": {
    "id": "brj141DkP61S",
    "colab_type": "code",
    "colab": {
     "base_uri": "https://localhost:8080/",
     "height": 34.0
    },
    "outputId": "f2815ceb-d889-44a2-fdbc-e3822bcc7ff8"
   },
   "outputs": [
    {
     "name": "stdout",
     "output_type": "stream",
     "text": [
      "[0, 1, 0, 30, 0]\n"
     ]
    }
   ],
   "source": [
    "user_path = '/content/drive/My Drive/Classroom/student-shopee-code-league-marketing-analytics/users.csv'\n",
    "import csv\n",
    "id_dictionary = dict()\n",
    "with open(user_path, newline='') as csvfile:\n",
    "  rows = csv.reader(csvfile)\n",
    "  a = 0\n",
    "  for row in rows:\n",
    "    if a != 0:\n",
    "      id, a_1, a_2, a_3, age, domain = row\n",
    "      if a_1 == '':\n",
    "        a_1 = 0\n",
    "      if a_2 == '':\n",
    "        a_2 = 0\n",
    "      if age == '':\n",
    "        age = 30\n",
    "      if domain == '@gmail.com':\n",
    "        domain = 1\n",
    "      else:\n",
    "        domain = 0\n",
    "      id_dictionary[id] = [int(float(a_1)), int(float(a_2)), int(float(a_3)), int(float(age)), domain]\n",
    "    else:\n",
    "      pass\n",
    "    a += 1\n",
    "print(id_dictionary['1111'])"
   ]
  },
  {
   "cell_type": "code",
   "execution_count": null,
   "metadata": {
    "id": "AW-lDp6tlPhl",
    "colab_type": "code",
    "colab": {}
   },
   "outputs": [],
   "source": [
    "def check_error(sets):\n",
    "  c = 0\n",
    "  days = [10, 30, 60]\n",
    "  for i in list(map(int,sets)):\n",
    "    if i != 0:\n",
    "      return days[c]\n",
    "    c += 1\n",
    "  return 1e9"
   ]
  },
  {
   "cell_type": "code",
   "execution_count": null,
   "metadata": {
    "id": "cjZa1eYiHCxu",
    "colab_type": "code",
    "colab": {}
   },
   "outputs": [],
   "source": [
    "def arrange(path, train=False):\n",
    "  error = 0\n",
    "  store_set = list()\n",
    "  with open(path, newline='') as csvfile:\n",
    "    rows = csv.reader(csvfile)\n",
    "    a = 0\n",
    "    for row in rows:\n",
    "      if a != 0:\n",
    "        if train:\n",
    "          country, _, id, sub_len, last_open, last_login, last_checkout, open_count10, open_count30, open_count60, login_count10, login_count30, login_count60, checkout_count10, checkout_count30, checkout_count60, answer, _ = row\n",
    "          if last_open == 'Never open':\n",
    "            c = 0\n",
    "            last_open = check_error([open_count10, open_count30, open_count60])\n",
    "            if  last_open != 1e9:\n",
    "              error += 1           \n",
    "          if last_login == 'Never login':\n",
    "            last_login = check_error([login_count10, login_count30, login_count60])\n",
    "            if  last_login != 1e9:\n",
    "              error += 1\n",
    "          if last_checkout == 'Never checkout':\n",
    "            last_checkout =  check_error([checkout_count10, checkout_count30, checkout_count60])\n",
    "            if last_checkout != 1e9:\n",
    "              error += 1\n",
    "          tem_set = [country, sub_len, last_open, last_login, last_checkout, open_count10, open_count30, open_count60, login_count10, login_count30, login_count60, checkout_count10, checkout_count30, checkout_count60]\n",
    "          for element in id_dictionary[id]:\n",
    "            tem_set.append(element)\n",
    "          tem_set.append(answer)\n",
    "        else:\n",
    "          country, _, id, sub_len, last_open, last_login, last_checkout, open_count10, open_count30, open_count60, login_count10, login_count30, login_count60, checkout_count10, checkout_count30, checkout_count60, _ = row\n",
    "          if last_open == 'Never open':\n",
    "            c = 0\n",
    "            last_open = check_error([open_count10, open_count30, open_count60])\n",
    "            if  last_open != 1e9:\n",
    "              error += 1           \n",
    "          if last_login == 'Never login':\n",
    "            last_login = check_error([login_count10, login_count30, login_count60])\n",
    "            if  last_login != 1e9:\n",
    "              error += 1\n",
    "          if last_checkout == 'Never checkout':\n",
    "            last_checkout =  check_error([checkout_count10, checkout_count30, checkout_count60])\n",
    "            if last_checkout != 1e9:\n",
    "              error += 1\n",
    "          tem_set = [country, sub_len, last_open, last_login, last_checkout, open_count10, open_count30, open_count60, login_count10, login_count30, login_count60, checkout_count10, checkout_count30, checkout_count60]\n",
    "          for element in id_dictionary[id]:\n",
    "            tem_set.append(element)\n",
    "        store_set.append(list(map(int,tem_set)))\n",
    "      else:\n",
    "        pass\n",
    "      a += 1\n",
    "    print(error)\n",
    "    return store_set"
   ]
  },
  {
   "cell_type": "code",
   "execution_count": null,
   "metadata": {
    "id": "aM4awXpOFyLv",
    "colab_type": "code",
    "colab": {
     "base_uri": "https://localhost:8080/",
     "height": 51.0
    },
    "outputId": "1f07997e-96b5-43e2-9871-dc5fad81b353"
   },
   "outputs": [
    {
     "name": "stdout",
     "output_type": "stream",
     "text": [
      "1449\n",
      "953\n"
     ]
    }
   ],
   "source": [
    "test_path = '/content/drive/My Drive/Classroom/student-shopee-code-league-marketing-analytics/test.csv'\n",
    "train_path = '/content/drive/My Drive/Classroom/student-shopee-code-league-marketing-analytics/train.csv'\n",
    "train_set = arrange(train_path, train=True)\n",
    "test_set = arrange(test_path)"
   ]
  },
  {
   "cell_type": "code",
   "execution_count": null,
   "metadata": {
    "id": "VFLCDMv90avB",
    "colab_type": "code",
    "colab": {
     "base_uri": "https://localhost:8080/",
     "height": 34.0
    },
    "outputId": "1ed274de-463d-4d9c-bb2c-bdc08bca66d1"
   },
   "outputs": [
    {
     "name": "stdout",
     "output_type": "stream",
     "text": [
      "[4, 44, 19, 6, 18, 0, 2, 4, 12, 43, 99, 0, 5, 10, 1, 1, 2, 47, 1, 0]\n"
     ]
    }
   ],
   "source": [
    "print(train_set[0])"
   ]
  },
  {
   "cell_type": "code",
   "execution_count": null,
   "metadata": {
    "id": "7ptXDcrj_FqN",
    "colab_type": "code",
    "colab": {}
   },
   "outputs": [],
   "source": [
    "from sklearn import datasets\n",
    "import pandas as pd\n",
    "import numpy as np\n",
    "import matplotlib.pyplot as plt\n",
    "import seaborn as sns"
   ]
  },
  {
   "cell_type": "code",
   "execution_count": null,
   "metadata": {
    "id": "IYXcVFqe_F38",
    "colab_type": "code",
    "colab": {}
   },
   "outputs": [],
   "source": [
    "%matplotlib inline"
   ]
  },
  {
   "cell_type": "code",
   "execution_count": null,
   "metadata": {
    "id": "q8wQ1YUIGlzJ",
    "colab_type": "code",
    "colab": {
     "base_uri": "https://localhost:8080/",
     "height": 176.0
    },
    "outputId": "04b081b2-597f-4fe1-828d-85a259adfd04"
   },
   "outputs": [
    {
     "name": "stdout",
     "output_type": "stream",
     "text": [
      "shape:(73539, 20) , type:<class 'pandas.core.frame.DataFrame'>\n",
      "shape:(55970, 7) , type:<class 'pandas.core.frame.DataFrame'>\n"
     ]
    },
    {
     "data": {
      "text/html": [
       "<div>\n",
       "<style scoped>\n",
       "    .dataframe tbody tr th:only-of-type {\n",
       "        vertical-align: middle;\n",
       "    }\n",
       "\n",
       "    .dataframe tbody tr th {\n",
       "        vertical-align: top;\n",
       "    }\n",
       "\n",
       "    .dataframe thead th {\n",
       "        text-align: right;\n",
       "    }\n",
       "</style>\n",
       "<table border=\"1\" class=\"dataframe\">\n",
       "  <thead>\n",
       "    <tr style=\"text-align: right;\">\n",
       "      <th></th>\n",
       "      <th>country</th>\n",
       "      <th>domain</th>\n",
       "      <th>age</th>\n",
       "      <th>country</th>\n",
       "      <th>open_count60</th>\n",
       "      <th>open_count30</th>\n",
       "      <th>open_count10</th>\n",
       "    </tr>\n",
       "  </thead>\n",
       "  <tbody>\n",
       "    <tr>\n",
       "      <th>0</th>\n",
       "      <td>6</td>\n",
       "      <td>1</td>\n",
       "      <td>30</td>\n",
       "      <td>6</td>\n",
       "      <td>4</td>\n",
       "      <td>3</td>\n",
       "      <td>2</td>\n",
       "    </tr>\n",
       "    <tr>\n",
       "      <th>1</th>\n",
       "      <td>6</td>\n",
       "      <td>1</td>\n",
       "      <td>30</td>\n",
       "      <td>6</td>\n",
       "      <td>1</td>\n",
       "      <td>1</td>\n",
       "      <td>1</td>\n",
       "    </tr>\n",
       "    <tr>\n",
       "      <th>2</th>\n",
       "      <td>5</td>\n",
       "      <td>1</td>\n",
       "      <td>33</td>\n",
       "      <td>5</td>\n",
       "      <td>0</td>\n",
       "      <td>0</td>\n",
       "      <td>0</td>\n",
       "    </tr>\n",
       "  </tbody>\n",
       "</table>\n",
       "</div>"
      ],
      "text/plain": [
       "   country  domain  age  country  open_count60  open_count30  open_count10\n",
       "0        6       1   30        6             4             3             2\n",
       "1        6       1   30        6             1             1             1\n",
       "2        5       1   33        5             0             0             0"
      ]
     },
     "execution_count": 153,
     "metadata": {
      "tags": []
     },
     "output_type": "execute_result"
    }
   ],
   "source": [
    "from pandas import DataFrame\n",
    "df_train = DataFrame (train_set,columns=['country', 'sub_len', 'last_open', 'last_login', 'last_checkout', 'open_count10', 'open_count30', 'open_count60', 'login_count10', 'login_count30', 'login_count60', 'checkout_count10', 'checkout_count30', 'checkout_count60', '1', '2', '3', 'age', 'domain', 'answer'])\n",
    "df_test = DataFrame (test_set,columns=['country', 'sub_len', 'last_open', 'last_login', 'last_checkout', 'open_count10', 'open_count30', 'open_count60', 'login_count10', 'login_count30', 'login_count60', 'checkout_count10', 'checkout_count30', 'checkout_count60', '1', '2', '3', 'age', 'domain'])\n",
    "df_test = df_test[['country','domain','age','country','open_count60', 'open_count30', 'open_count10']]\n",
    "print(f'shape:{df_train.shape} , type:{type(df_train)}')\n",
    "print(f'shape:{df_test.shape} , type:{type(df_test)}')\n",
    "df_train.head(3)\n",
    "df_test.head(3)\n"
   ]
  },
  {
   "cell_type": "code",
   "execution_count": null,
   "metadata": {
    "id": "2jMUNrPm0JQh",
    "colab_type": "code",
    "colab": {
     "base_uri": "https://localhost:8080/",
     "height": 374.0
    },
    "outputId": "01e52baf-6c2a-43d4-fc13-2de33806cc5f"
   },
   "outputs": [
    {
     "data": {
      "text/plain": [
       "last_open          -0.096932\n",
       "domain             -0.096021\n",
       "sub_len            -0.057357\n",
       "last_checkout      -0.024291\n",
       "3                  -0.014235\n",
       "2                  -0.013143\n",
       "1                  -0.000501\n",
       "last_login         -0.000263\n",
       "login_count60       0.008633\n",
       "login_count30       0.010134\n",
       "checkout_count60    0.010231\n",
       "checkout_count30    0.013419\n",
       "login_count10       0.014023\n",
       "checkout_count10    0.015573\n",
       "age                 0.081024\n",
       "country             0.158945\n",
       "open_count60        0.477766\n",
       "open_count30        0.507853\n",
       "open_count10        0.515307\n",
       "answer              1.000000\n",
       "Name: answer, dtype: float64"
      ]
     },
     "execution_count": 154,
     "metadata": {
      "tags": []
     },
     "output_type": "execute_result"
    }
   ],
   "source": [
    "df_train.corr()['answer'].sort_values() "
   ]
  },
  {
   "cell_type": "code",
   "execution_count": null,
   "metadata": {
    "id": "jrjnmHC2LERs",
    "colab_type": "code",
    "colab": {}
   },
   "outputs": [],
   "source": [
    "from sklearn.model_selection import train_test_split"
   ]
  },
  {
   "cell_type": "code",
   "execution_count": null,
   "metadata": {
    "id": "Xw_ncXBBLEax",
    "colab_type": "code",
    "colab": {}
   },
   "outputs": [],
   "source": [
    "X_train, X_test, y_train, y_test = train_test_split(\n",
    "    df_train[['country','domain','age','country','open_count60', 'open_count30', 'open_count10']], df_train[['answer']], test_size = 0.3, random_state = 0\n",
    ")"
   ]
  },
  {
   "cell_type": "code",
   "execution_count": null,
   "metadata": {
    "id": "Mm-jQ901LEeS",
    "colab_type": "code",
    "colab": {}
   },
   "outputs": [],
   "source": [
    "from sklearn.preprocessing import StandardScaler\n",
    "sc = StandardScaler()\n",
    "sc.fit(X_train)\n",
    "X_train_std = sc.transform(X_train)\n",
    "X_test_std = (X_test)"
   ]
  },
  {
   "cell_type": "markdown",
   "metadata": {
    "id": "BXsKSmB3oa7Q",
    "colab_type": "text"
   },
   "source": [
    "**SVM-SVC**"
   ]
  },
  {
   "cell_type": "code",
   "execution_count": null,
   "metadata": {
    "id": "QBKZi5TZLEhS",
    "colab_type": "code",
    "colab": {}
   },
   "outputs": [],
   "source": [
    "#from sklearn.svm import SVC"
   ]
  },
  {
   "cell_type": "code",
   "execution_count": null,
   "metadata": {
    "id": "zdWmZ_EOM8-H",
    "colab_type": "code",
    "colab": {}
   },
   "outputs": [],
   "source": [
    "#svm = SVC(kernel='linear', probability = True)"
   ]
  },
  {
   "cell_type": "code",
   "execution_count": null,
   "metadata": {
    "id": "O5WBhkNqM95W",
    "colab_type": "code",
    "colab": {}
   },
   "outputs": [],
   "source": [
    "#svm.fit(X_train_std, y_train['answer'].values)"
   ]
  },
  {
   "cell_type": "code",
   "execution_count": null,
   "metadata": {
    "id": "LRWh9US1Yix9",
    "colab_type": "code",
    "colab": {}
   },
   "outputs": [],
   "source": [
    "#test = svm.predict(X_test).tolist()\n",
    "#test_true = np.array(y_test).tolist()"
   ]
  },
  {
   "cell_type": "markdown",
   "metadata": {
    "id": "0-g00KN2oenJ",
    "colab_type": "text"
   },
   "source": [
    "**logistic**"
   ]
  },
  {
   "cell_type": "code",
   "execution_count": null,
   "metadata": {
    "id": "j6KDskhhoPpZ",
    "colab_type": "code",
    "colab": {
     "base_uri": "https://localhost:8080/",
     "height": 156.0
    },
    "outputId": "43212b6e-5f76-4e22-ce97-ade55352229a"
   },
   "outputs": [
    {
     "name": "stderr",
     "output_type": "stream",
     "text": [
      "/usr/local/lib/python3.6/dist-packages/sklearn/utils/validation.py:760: DataConversionWarning: A column-vector y was passed when a 1d array was expected. Please change the shape of y to (n_samples, ), for example using ravel().\n",
      "  y = column_or_1d(y, warn=True)\n"
     ]
    },
    {
     "data": {
      "text/plain": [
       "LogisticRegression(C=1.0, class_weight=None, dual=False, fit_intercept=True,\n",
       "                   intercept_scaling=1, l1_ratio=None, max_iter=100,\n",
       "                   multi_class='auto', n_jobs=None, penalty='l2',\n",
       "                   random_state=None, solver='lbfgs', tol=0.0001, verbose=0,\n",
       "                   warm_start=False)"
      ]
     },
     "execution_count": 158,
     "metadata": {
      "tags": []
     },
     "output_type": "execute_result"
    }
   ],
   "source": [
    "from sklearn.linear_model import LogisticRegression\n",
    "lr = LogisticRegression(solver = \"lbfgs\")\n",
    "lr.fit(X_train, y_train)"
   ]
  },
  {
   "cell_type": "code",
   "execution_count": null,
   "metadata": {
    "id": "4Ox85S3Cokh-",
    "colab_type": "code",
    "colab": {}
   },
   "outputs": [],
   "source": [
    "test = lr.predict(X_test).tolist()\n",
    "test_true = np.array(y_test).tolist()"
   ]
  },
  {
   "cell_type": "code",
   "execution_count": null,
   "metadata": {
    "id": "fvuvj-8P5aa2",
    "colab_type": "code",
    "colab": {
     "base_uri": "https://localhost:8080/",
     "height": 34.0
    },
    "outputId": "ea504b4a-13ef-4c1f-b31a-e34085fa8dac"
   },
   "outputs": [
    {
     "name": "stdout",
     "output_type": "stream",
     "text": [
      "22062 22062\n"
     ]
    }
   ],
   "source": [
    "print(len(test), len(test_true))"
   ]
  },
  {
   "cell_type": "code",
   "execution_count": null,
   "metadata": {
    "id": "mPZvLSjUsvw9",
    "colab_type": "code",
    "colab": {
     "base_uri": "https://localhost:8080/",
     "height": 255.0
    },
    "outputId": "85ed58ad-fbd4-4f7b-b9b9-1678e296300b"
   },
   "outputs": [
    {
     "name": "stdout",
     "output_type": "stream",
     "text": [
      "       country  domain  age  country  open_count60  open_count30  open_count10\n",
      "73213        1       1   30        1             0             0             0\n",
      "1066         1       1   19        1             0             0             0\n",
      "30192        6       1   30        6             0             0             0\n",
      "39714        2       1   50        2             9             5             0\n",
      "55008        2       1   35        2             5             1             0\n",
      "...        ...     ...  ...      ...           ...           ...           ...\n",
      "9188         1       1   50        1             2             1             1\n",
      "58477        3       1   30        3             0             0             0\n",
      "8164         1       1   38        1             2             1             0\n",
      "69865        5       1   23        5             2             0             0\n",
      "29960        1       1   30        1             1             0             0\n",
      "\n",
      "[22062 rows x 7 columns]\n"
     ]
    }
   ],
   "source": [
    "print(X_test)"
   ]
  },
  {
   "cell_type": "code",
   "execution_count": null,
   "metadata": {
    "id": "377biXzY4fpY",
    "colab_type": "code",
    "colab": {
     "base_uri": "https://localhost:8080/",
     "height": 34.0
    },
    "outputId": "1d3967de-a20f-492c-c7a0-b3b7225c5ac7"
   },
   "outputs": [
    {
     "name": "stdout",
     "output_type": "stream",
     "text": [
      "accuracy:88%\n"
     ]
    }
   ],
   "source": [
    "def accuracy(predict, test):\n",
    "  total = len(predict)\n",
    "  count = 0\n",
    "  for i in range(total):\n",
    "    if int(predict[i]) == int(test[i][0]):\n",
    "      count += 1\n",
    "  return count/total\n",
    "\n",
    "a = accuracy(test, test_true)\n",
    "print(f'accuracy:{int(a*100)}%')"
   ]
  },
  {
   "cell_type": "code",
   "execution_count": null,
   "metadata": {
    "id": "30K4CY24rueQ",
    "colab_type": "code",
    "colab": {
     "base_uri": "https://localhost:8080/",
     "height": 34.0
    },
    "outputId": "7d495977-614a-4e3d-cc6c-9d02991ae3e9"
   },
   "outputs": [
    {
     "name": "stdout",
     "output_type": "stream",
     "text": [
      "<class 'pandas.core.frame.DataFrame'>\n"
     ]
    }
   ],
   "source": [
    "print(type(df_test))"
   ]
  },
  {
   "cell_type": "code",
   "execution_count": null,
   "metadata": {
    "id": "uItnF1ZRR6vl",
    "colab_type": "code",
    "colab": {}
   },
   "outputs": [],
   "source": [
    "#answer = svm.predict(df_test).tolist()\n",
    "answer = lr.predict(df_test).tolist()\n",
    "with open('output.csv', 'w', newline='') as csvfile:\n",
    "    writer = csv.writer(csvfile)\n",
    "    writer.writerow(['row_id','open_flag'])\n",
    "    for index_value in range(len(answer)):\n",
    "        writer.writerow([index_value, answer[index_value]])\n"
   ]
  }
 ],
 "metadata": {
  "colab": {
   "name": "Market.ipynb",
   "provenance": []
  },
  "kernelspec": {
   "name": "python3",
   "display_name": "Python 3"
  }
 },
 "nbformat": 4,
 "nbformat_minor": 0
}
